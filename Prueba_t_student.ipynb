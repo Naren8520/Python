{
  "nbformat": 4,
  "nbformat_minor": 0,
  "metadata": {
    "colab": {
      "name": "Prueba t-student.ipynb",
      "provenance": [],
      "collapsed_sections": [],
      "authorship_tag": "ABX9TyNgGKkfVkk7PY60/adF5558",
      "include_colab_link": true
    },
    "kernelspec": {
      "name": "python3",
      "display_name": "Python 3"
    }
  },
  "cells": [
    {
      "cell_type": "markdown",
      "metadata": {
        "id": "view-in-github",
        "colab_type": "text"
      },
      "source": [
        "<a href=\"https://colab.research.google.com/github/Naren8520/Python/blob/main/Prueba_t_student.ipynb\" target=\"_parent\"><img src=\"https://colab.research.google.com/assets/colab-badge.svg\" alt=\"Open In Colab\"/></a>"
      ]
    },
    {
      "cell_type": "markdown",
      "metadata": {
        "id": "m_8_b5yzB8RF"
      },
      "source": [
        "# **Prueba $t$ de una muestra**\r\n",
        "* La prueba $t$ de una muestra se utiliza para comparar la media muestral (una muestra aleatoria de una población) con el valor específico (media hipotética o conocida de la población).\r\n",
        "* Por ejemplo, una bola tiene un diámetro de 5 cm y queremos comprobar si el diámetro medio de la bola de la muestra aleatoria (por ejemplo, 50 bolas) recogida de la línea de producción difiere del tamaño conocido."
      ]
    },
    {
      "cell_type": "markdown",
      "metadata": {
        "id": "dobc06AMCOz-"
      },
      "source": [
        "# **Supuestos**\r\n",
        "* La variable dependiente debe tener una distribución aproximadamente normal (prueba de Shapiro-Wilks)\r\n",
        "* Las observaciones son independientes entre sí"
      ]
    },
    {
      "cell_type": "markdown",
      "metadata": {
        "id": "UBjnpMxICbp3"
      },
      "source": [
        "# **Hipótesis**\r\n",
        "* **Hipótesis nula :** la media de la muestra es igual a la media de la población hipotética o conocida\r\n",
        "* **Hipótesis alternativa :** la media de la muestra no es igual a la media de la población hipotética o conocida (de dos colas o de dos lados)\r\n",
        "* **Hipótesis alternativa :** la media de la muestra es mayor o menor que la media de la población hipotetizada o conocida ( unilateral o unilateral )"
      ]
    },
    {
      "cell_type": "markdown",
      "metadata": {
        "id": "VnNMBVATCtY8"
      },
      "source": [
        "# **Fórmula**\r\n",
        "$$\\it{t} = \\frac{ \\bar{x} - \\mu }{ s / \\sqrt{n} }$$\r\n",
        "\r\n",
        "Sigue aproximadamente $t$-distribución con $n-1$ grados de libertad\r\n",
        "\r\n",
        "Dónde, \r\n",
        "\r\n",
        "$X=$ media muestral; \\\r\n",
        "$\\mu=$ media poblacional hipotética o conocida; \\\r\n",
        "$s=$ desviación estándar de la muestra y \\\r\n",
        "$n=$ es el tamaño de la muestra"
      ]
    },
    {
      "cell_type": "markdown",
      "metadata": {
        "id": "UMpgPpk_X3nX"
      },
      "source": [
        "# **¿Cómo realizar una prueba t de muestra en Python?**"
      ]
    },
    {
      "cell_type": "code",
      "metadata": {
        "id": "RHepB8gHYRS9"
      },
      "source": [
        "!pip install bioinfokit"
      ],
      "execution_count": null,
      "outputs": []
    },
    {
      "cell_type": "code",
      "metadata": {
        "colab": {
          "base_uri": "https://localhost:8080/",
          "height": 204
        },
        "id": "whzrGD9zBk7Q",
        "outputId": "785ec1f7-8e6f-46ab-ef1f-66a3672d71f8"
      },
      "source": [
        "from bioinfokit.analys import get_data, stat\r\n",
        "# load dataset as pandas dataframe\r\n",
        "# the dataset should not have missing (NaN) values. If it has, it will omitted\r\n",
        "df = get_data('t_one_samp').data\r\n",
        "df.head()"
      ],
      "execution_count": null,
      "outputs": [
        {
          "output_type": "execute_result",
          "data": {
            "text/html": [
              "<div>\n",
              "<style scoped>\n",
              "    .dataframe tbody tr th:only-of-type {\n",
              "        vertical-align: middle;\n",
              "    }\n",
              "\n",
              "    .dataframe tbody tr th {\n",
              "        vertical-align: top;\n",
              "    }\n",
              "\n",
              "    .dataframe thead th {\n",
              "        text-align: right;\n",
              "    }\n",
              "</style>\n",
              "<table border=\"1\" class=\"dataframe\">\n",
              "  <thead>\n",
              "    <tr style=\"text-align: right;\">\n",
              "      <th></th>\n",
              "      <th>size</th>\n",
              "    </tr>\n",
              "  </thead>\n",
              "  <tbody>\n",
              "    <tr>\n",
              "      <th>0</th>\n",
              "      <td>5.739987</td>\n",
              "    </tr>\n",
              "    <tr>\n",
              "      <th>1</th>\n",
              "      <td>5.254042</td>\n",
              "    </tr>\n",
              "    <tr>\n",
              "      <th>2</th>\n",
              "      <td>5.152388</td>\n",
              "    </tr>\n",
              "    <tr>\n",
              "      <th>3</th>\n",
              "      <td>4.870819</td>\n",
              "    </tr>\n",
              "    <tr>\n",
              "      <th>4</th>\n",
              "      <td>3.536251</td>\n",
              "    </tr>\n",
              "  </tbody>\n",
              "</table>\n",
              "</div>"
            ],
            "text/plain": [
              "       size\n",
              "0  5.739987\n",
              "1  5.254042\n",
              "2  5.152388\n",
              "3  4.870819\n",
              "4  3.536251"
            ]
          },
          "metadata": {
            "tags": []
          },
          "execution_count": 6
        }
      ]
    },
    {
      "cell_type": "code",
      "metadata": {
        "colab": {
          "base_uri": "https://localhost:8080/"
        },
        "id": "n2wWKIBFYizL",
        "outputId": "90351c58-b4b7-4897-bc53-fce5c58cb008"
      },
      "source": [
        "res = stat()\r\n",
        "res.ttest(df=df, test_type=1, res='size', mu=5)\r\n",
        "print(res.summary)"
      ],
      "execution_count": null,
      "outputs": [
        {
          "output_type": "stream",
          "text": [
            "\n",
            "One Sample t-test \n",
            "\n",
            "------------------  --------\n",
            "Sample size         50\n",
            "Mean                 5.05128\n",
            "t                    0.36789\n",
            "Df                  49\n",
            "P-value (one-tail)   0.35727\n",
            "P-value (two-tail)   0.71454\n",
            "Lower 95.0%          4.77116\n",
            "Upper 95.0%          5.3314\n",
            "------------------  --------\n"
          ],
          "name": "stdout"
        }
      ]
    },
    {
      "cell_type": "markdown",
      "metadata": {
        "id": "vvuqLkfBYs9U"
      },
      "source": [
        "# **Interpretación**\r\n",
        "El valor $p$ obtenido de la prueba $t$ de una muestra no es significativo $(p> 0.05)$, y por lo tanto, concluimos que el diámetro promedio de las bolas en una muestra aleatoria es igual a 5 cm."
      ]
    },
    {
      "cell_type": "markdown",
      "metadata": {
        "id": "ZVlei7GkY6Jh"
      },
      "source": [
        "# **Prueba t de dos muestras (prueba t independiente o no apareada )**\r\n",
        "* Prueba $t$ independiente de dos muestras Se utiliza para comparar las medias de dos grupos independientes\r\n",
        "* Por ejemplo, tenemos dos genotipos de plantas diferentes (genotipo A y genotipo B) y nos gustaría comparar si el rendimiento del genotipo A es significativamente diferente del genotipo B"
      ]
    },
    {
      "cell_type": "markdown",
      "metadata": {
        "id": "qfmmeC5FZHaX"
      },
      "source": [
        "# **Dos hipótesis de prueba t de muestra**\r\n",
        "* **Hipótesis nula :** las medias de dos grupos son iguales\r\n",
        "* **Hipótesis alternativa :** las medias de dos grupos son diferentes (de dos colas o de dos caras)\r\n",
        "* **Hipótesis alternativa :** media de un grupo mayor o menor que otro grupo (unilateral o unilateral)"
      ]
    },
    {
      "cell_type": "markdown",
      "metadata": {
        "id": "n7deue23ZVyv"
      },
      "source": [
        "# **Supuestos de prueba t de muestra**\r\n",
        "* Las observaciones en dos grupos tienen una distribución aproximadamente normal (prueba de Shapiro-Wilks)\r\n",
        "* Homogeneidad de varianzas (las varianzas son iguales entre los grupos de tratamiento) (prueba de Levene o Bartlett)\r\n",
        "* Los dos grupos se muestrean de forma independiente entre sí de la misma población"
      ]
    },
    {
      "cell_type": "markdown",
      "metadata": {
        "id": "royCaHiHZjPn"
      },
      "source": [
        "# **Fórmula**\r\n",
        "$$\\it{t} = \\frac{ \\bar{x_1} - \\bar{x_2} }{   \\sqrt{s^2 (\\frac{1}{n_1} + \\frac{1}{n_2}) } }$$\r\n",
        "\r\n",
        "Sigue aproximadamente $t$- distribución con $n_1+n_2-1$\r\n",
        " grados de libertad\r\n",
        "\r\n",
        "Dónde,\r\n",
        " \r\n",
        "$\\bar x_1$ y $\\bar x_2=$ medias para dos muestras independientes; \\\r\n",
        "$s^2=$ varianza de la muestra combinada (estimación de la varianza de la \\población desconocida $\\sigma^2$), y \\\r\n",
        "$n_1$ y $n_2=$ son el tamaño de la muestra para dos muestras independientes"
      ]
    },
    {
      "cell_type": "markdown",
      "metadata": {
        "id": "rgBL-q8Na_ZA"
      },
      "source": [
        "$s^2$ es calculado como:\r\n",
        "$$\\it{s^2}  = \\frac{ (n_1-1) s_{x_1}^2 + (n_2-1) s_{x_2}^2  }{ n_1+n_2-2 }$$\r\n",
        "donde\r\n",
        "$s_{x_1}^2$ y $s_{x_2}^2$ varianzas muestrales (estimación de varianzas poblacionales desconocidas $\\sigma_{x_1}^2$ y $\\sigma_{x_2}^2$\r\n",
        "\r\n",
        "Para la prueba de Welch (donde las variaciones de grupo no son iguales)\r\n",
        "\r\n",
        "$$\\it{t} = \\frac{ \\mid \\bar{x_1} - \\bar{x_2} \\mid }{   \\sqrt{ \\frac{s_{x_1}^2}{n_1} + \\frac{s_{x_2}^2}{n_2} } }$$\r\n",
        "\r\n",
        "Sigue aproximadamente $t$- distribución con $v$ grados de libertad\r\n",
        "\r\n",
        "$$\\nu  = \\frac{ (s_{x_1}^2/n_1 + s_{x_2}^2/n_2)^2  }{ \\frac{ (s_{x_1}^2/n_1)^2 }{n_1-1} + \\frac{ (s_{x_2}^2/n_2)^2 }{n_2-1} }$$"
      ]
    },
    {
      "cell_type": "markdown",
      "metadata": {
        "id": "iw8131zvcwCh"
      },
      "source": [
        "# **¿Cómo realizar dos pruebas t de muestra en Python?**"
      ]
    },
    {
      "cell_type": "code",
      "metadata": {
        "colab": {
          "base_uri": "https://localhost:8080/",
          "height": 204
        },
        "id": "vw8YG94scqR3",
        "outputId": "efe6b043-93b5-42c0-bbb6-8d86b8e872b9"
      },
      "source": [
        "from bioinfokit.analys import get_data, stat\r\n",
        "# Cargamos la data con pandas dataframe\r\n",
        "# el conjunto de datos no debe tener valores perdidos (NaN). Si lo ha hecho, se omitirá\r\n",
        "df = get_data('t_ind_samp').data\r\n",
        "df.head()"
      ],
      "execution_count": null,
      "outputs": [
        {
          "output_type": "execute_result",
          "data": {
            "text/html": [
              "<div>\n",
              "<style scoped>\n",
              "    .dataframe tbody tr th:only-of-type {\n",
              "        vertical-align: middle;\n",
              "    }\n",
              "\n",
              "    .dataframe tbody tr th {\n",
              "        vertical-align: top;\n",
              "    }\n",
              "\n",
              "    .dataframe thead th {\n",
              "        text-align: right;\n",
              "    }\n",
              "</style>\n",
              "<table border=\"1\" class=\"dataframe\">\n",
              "  <thead>\n",
              "    <tr style=\"text-align: right;\">\n",
              "      <th></th>\n",
              "      <th>Genotype</th>\n",
              "      <th>yield</th>\n",
              "    </tr>\n",
              "  </thead>\n",
              "  <tbody>\n",
              "    <tr>\n",
              "      <th>0</th>\n",
              "      <td>A</td>\n",
              "      <td>78.0</td>\n",
              "    </tr>\n",
              "    <tr>\n",
              "      <th>1</th>\n",
              "      <td>A</td>\n",
              "      <td>84.3</td>\n",
              "    </tr>\n",
              "    <tr>\n",
              "      <th>2</th>\n",
              "      <td>A</td>\n",
              "      <td>81.0</td>\n",
              "    </tr>\n",
              "    <tr>\n",
              "      <th>3</th>\n",
              "      <td>B</td>\n",
              "      <td>88.0</td>\n",
              "    </tr>\n",
              "    <tr>\n",
              "      <th>4</th>\n",
              "      <td>B</td>\n",
              "      <td>92.0</td>\n",
              "    </tr>\n",
              "  </tbody>\n",
              "</table>\n",
              "</div>"
            ],
            "text/plain": [
              "  Genotype  yield\n",
              "0        A   78.0\n",
              "1        A   84.3\n",
              "2        A   81.0\n",
              "3        B   88.0\n",
              "4        B   92.0"
            ]
          },
          "metadata": {
            "tags": []
          },
          "execution_count": 8
        }
      ]
    },
    {
      "cell_type": "code",
      "metadata": {
        "colab": {
          "base_uri": "https://localhost:8080/"
        },
        "id": "U3Ga4pcydBzc",
        "outputId": "d2c17cc2-683d-4b32-ffbc-bee93a8df26a"
      },
      "source": [
        "res = stat()\r\n",
        "# para la prueba t de varianza desigual (prueba t de Welch), establezca evar = Falso\r\n",
        "res.ttest(df=df, xfac=\"Genotype\", res=\"yield\", test_type=2)\r\n",
        "print(res.summary)"
      ],
      "execution_count": null,
      "outputs": [
        {
          "output_type": "stream",
          "text": [
            "\n",
            "Two sample t-test with equal variance\n",
            "\n",
            "------------------  -------------\n",
            "Mean diff           -10.3\n",
            "t                    -5.40709\n",
            "Std Error             1.90491\n",
            "df                   10\n",
            "P-value (one-tail)    0.000149204\n",
            "P-value (two-tail)    0.000298408\n",
            "Lower 95.0%         -14.5444\n",
            "Upper 95.0%          -6.05561\n",
            "------------------  -------------\n",
            "\n",
            "Parameter estimates\n",
            "\n",
            "Level      Number    Mean    Std Dev    Std Error    Lower 95.0%    Upper 95.0%\n",
            "-------  --------  ------  ---------  -----------  -------------  -------------\n",
            "A               6    79.1    3.30817      1.35056        75.6283        82.5717\n",
            "B               6    89.4    3.29059      1.34338        85.9467        92.8533\n",
            "\n"
          ],
          "name": "stdout"
        }
      ]
    },
    {
      "cell_type": "markdown",
      "metadata": {
        "id": "1UB4BhLOdOMO"
      },
      "source": [
        "**Nota :** Aunque puede realizar una prueba t cuando el tamaño de la muestra es desigual entre dos grupos, es más eficiente tener un tamaño de muestra igual en dos grupos para aumentar la potencia de la prueba t .\r\n",
        "\r\n",
        "**Interpretación**\r\n",
        "El valor de p obtenido de la prueba t es significativo ( p <0.05), por lo que concluimos que el rendimiento del genotipo A es significativamente diferente al del genotipo B."
      ]
    },
    {
      "cell_type": "markdown",
      "metadata": {
        "id": "vbh1te17dYPL"
      },
      "source": [
        "# **Prueba $t$ pareada ( prueba t dependiente )**\r\n",
        "* Prueba t pareada utilizada para comparar las diferencias entre el par de variables dependientes para el mismo sujeto\r\n",
        "* Por ejemplo, tenemos la variedad de planta A y nos gustaría comparar el rendimiento de A antes y después de la aplicación de algún fertilizante.\r\n",
        "* Nota : Paired $t -test$ es una muestra de un $t -test$ sobre las diferencias entre las dos variables dependientes"
      ]
    },
    {
      "cell_type": "markdown",
      "metadata": {
        "id": "hGc84DNgdnmB"
      },
      "source": [
        "# **Prueba de hipótesis de t-Pariada**\r\n",
        "* **Hipótesis nula :** no hay diferencia entre las dos variables dependientes (diferencia = 0)\r\n",
        "* **Hipótesis alternativa :** hay una diferencia entre las dos variables dependientes (de dos colas o de dos caras)\r\n",
        "* **Hipótesis alternativa :** diferencia entre dos variables de respuesta mayor o menor que cero ( unilateral o unilateral )"
      ]
    },
    {
      "cell_type": "markdown",
      "metadata": {
        "id": "ZYGeeom7d02P"
      },
      "source": [
        "# **Emparejado t Supuestos**\r\n",
        "* Las diferencias entre las dos variables dependientes siguen una distribución aproximadamente normal (prueba de Shapiro-Wilks)\r\n",
        "* La variable independiente debe tener un par de variables dependientes\r\n",
        "* Las diferencias entre las dos variables dependientes no deben tener valores atípicos\r\n",
        "* Las observaciones se muestrean independientemente unas de otras."
      ]
    },
    {
      "cell_type": "markdown",
      "metadata": {
        "id": "7LCaDMe4d89h"
      },
      "source": [
        "# **Fórmula**\r\n",
        "\r\n",
        "$$\\it{t} = \\frac{ \\bar{d} }{ s_d / \\sqrt{n} }$$\r\n",
        "\r\n",
        "Sigue aproximadamente $t$ -distribución con $n-1$ grados de libertad\r\n",
        "\r\n",
        "Dónde, \r\n",
        "\r\n",
        "$\\bar d=$ media de las diferencias muestrales; \\\r\n",
        "$s_d=$ desviación estándar de las diferencias muestrales y \\\r\n",
        "$n=$ es el tamaño de la muestra"
      ]
    },
    {
      "cell_type": "code",
      "metadata": {
        "colab": {
          "base_uri": "https://localhost:8080/",
          "height": 204
        },
        "id": "9itY0Dcde1EP",
        "outputId": "97374fe5-04df-432a-9fc4-0744d7fa559a"
      },
      "source": [
        "from bioinfokit.analys import get_data, stat\r\n",
        "# Cargamo la data con pandas dataframe\r\n",
        "# el conjunto de datos no debe tener valores perdidos (NaN). Si lo ha hecho, se omitirá\r\n",
        "df = get_data('t_pair').data\r\n",
        "df.head()"
      ],
      "execution_count": null,
      "outputs": [
        {
          "output_type": "execute_result",
          "data": {
            "text/html": [
              "<div>\n",
              "<style scoped>\n",
              "    .dataframe tbody tr th:only-of-type {\n",
              "        vertical-align: middle;\n",
              "    }\n",
              "\n",
              "    .dataframe tbody tr th {\n",
              "        vertical-align: top;\n",
              "    }\n",
              "\n",
              "    .dataframe thead th {\n",
              "        text-align: right;\n",
              "    }\n",
              "</style>\n",
              "<table border=\"1\" class=\"dataframe\">\n",
              "  <thead>\n",
              "    <tr style=\"text-align: right;\">\n",
              "      <th></th>\n",
              "      <th>BF</th>\n",
              "      <th>AF</th>\n",
              "    </tr>\n",
              "  </thead>\n",
              "  <tbody>\n",
              "    <tr>\n",
              "      <th>0</th>\n",
              "      <td>44.41</td>\n",
              "      <td>47.99</td>\n",
              "    </tr>\n",
              "    <tr>\n",
              "      <th>1</th>\n",
              "      <td>46.29</td>\n",
              "      <td>56.64</td>\n",
              "    </tr>\n",
              "    <tr>\n",
              "      <th>2</th>\n",
              "      <td>45.98</td>\n",
              "      <td>48.90</td>\n",
              "    </tr>\n",
              "    <tr>\n",
              "      <th>3</th>\n",
              "      <td>43.35</td>\n",
              "      <td>49.01</td>\n",
              "    </tr>\n",
              "    <tr>\n",
              "      <th>4</th>\n",
              "      <td>45.75</td>\n",
              "      <td>48.41</td>\n",
              "    </tr>\n",
              "  </tbody>\n",
              "</table>\n",
              "</div>"
            ],
            "text/plain": [
              "      BF     AF\n",
              "0  44.41  47.99\n",
              "1  46.29  56.64\n",
              "2  45.98  48.90\n",
              "3  43.35  49.01\n",
              "4  45.75  48.41"
            ]
          },
          "metadata": {
            "tags": []
          },
          "execution_count": 10
        }
      ]
    },
    {
      "cell_type": "code",
      "metadata": {
        "colab": {
          "base_uri": "https://localhost:8080/"
        },
        "id": "vq99MOwXfAuh",
        "outputId": "348475d0-3259-40da-f408-fe3a38284523"
      },
      "source": [
        "res = stat()\r\n",
        "res.ttest(df=df, res=['AF', 'BF'], test_type=3)\r\n",
        "print(res.summary)"
      ],
      "execution_count": null,
      "outputs": [
        {
          "output_type": "stream",
          "text": [
            "\n",
            "Paired t-test \n",
            "\n",
            "------------------  ------------\n",
            "Sample size         65\n",
            "Difference Mean      5.55262\n",
            "t                   14.2173\n",
            "Df                  64\n",
            "P-value (one-tail)   8.87966e-22\n",
            "P-value (two-tail)   1.77593e-21\n",
            "Lower 95.0%          4.7724\n",
            "Upper 95.0%          6.33283\n",
            "------------------  ------------\n"
          ],
          "name": "stdout"
        }
      ]
    },
    {
      "cell_type": "markdown",
      "metadata": {
        "id": "3vpUO3wHfGBg"
      },
      "source": [
        "# **Interpretación**\r\n",
        "El valor $p$ obtenido a partir de la prueba $t$ es significativo $( p <0.05)$, por lo que concluimos que el rendimiento de la variedad vegetal A aumentó significativamente con la aplicación de fertilizante."
      ]
    }
  ]
}