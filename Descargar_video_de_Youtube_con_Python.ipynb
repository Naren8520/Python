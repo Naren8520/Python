{
  "cells": [
    {
      "cell_type": "markdown",
      "metadata": {
        "id": "view-in-github",
        "colab_type": "text"
      },
      "source": [
        "<a href=\"https://colab.research.google.com/github/Naren8520/Python/blob/main/Descargar_video_de_Youtube_con_Python.ipynb\" target=\"_parent\"><img src=\"https://colab.research.google.com/assets/colab-badge.svg\" alt=\"Open In Colab\"/></a>"
      ]
    },
    {
      "cell_type": "markdown",
      "id": "b79b4b77-1c60-487e-9adb-cd69ce442534",
      "metadata": {
        "tags": [],
        "id": "b79b4b77-1c60-487e-9adb-cd69ce442534"
      },
      "source": [
        "<center><img src=\"imagen/descargar_video.png\" width=\"800\" height=\"50\"></center>"
      ]
    },
    {
      "cell_type": "code",
      "execution_count": null,
      "id": "85c57df5-eb19-4bb3-9574-562f3e6e946d",
      "metadata": {
        "id": "85c57df5-eb19-4bb3-9574-562f3e6e946d"
      },
      "outputs": [],
      "source": [
        "from pytube import YouTube"
      ]
    },
    {
      "cell_type": "code",
      "execution_count": null,
      "id": "28271c41-5457-492f-8e6a-232b337a7436",
      "metadata": {
        "id": "28271c41-5457-492f-8e6a-232b337a7436",
        "outputId": "bc891485-c335-4e1d-b920-5a95f652c438"
      },
      "outputs": [
        {
          "name": "stdin",
          "output_type": "stream",
          "text": [
            "ingrese la Url del video que desea descargar: https://www.youtube.com/watch?v=UR6hc_0fpE0&t=3s\n"
          ]
        }
      ],
      "source": [
        "link=input(\"ingrese la Url del video que desea descargar:\")\n"
      ]
    },
    {
      "cell_type": "code",
      "execution_count": null,
      "id": "74090ad9-7530-4250-ab25-5473f25df451",
      "metadata": {
        "id": "74090ad9-7530-4250-ab25-5473f25df451",
        "outputId": "af35aa69-3bad-4e53-f28c-da7ae2b69233"
      },
      "outputs": [
        {
          "name": "stderr",
          "output_type": "stream",
          "text": [
            "C:\\Users\\naren\\AppData\\Local\\Temp/ipykernel_11676/3096764175.py:4: DeprecationWarning: Call to deprecated function all (This object can be treated as a list, all() is useless).\n",
            "  videos=yt.streams.all()\n"
          ]
        }
      ],
      "source": [
        "yt=YouTube(link)\n",
        "\n",
        "#esto transmitirá todos los formularios disponibles para el video\n",
        "videos=yt.streams.all()"
      ]
    },
    {
      "cell_type": "code",
      "execution_count": null,
      "id": "344d988f-49be-4adf-97f7-728d3e7aa4c0",
      "metadata": {
        "id": "344d988f-49be-4adf-97f7-728d3e7aa4c0",
        "outputId": "dddadfbb-ac13-427f-85d8-9290c6be221e"
      },
      "outputs": [
        {
          "name": "stdout",
          "output_type": "stream",
          "text": [
            "(0, <Stream: itag=\"17\" mime_type=\"video/3gpp\" res=\"144p\" fps=\"7fps\" vcodec=\"mp4v.20.3\" acodec=\"mp4a.40.2\" progressive=\"True\" type=\"video\">)\n",
            "(1, <Stream: itag=\"18\" mime_type=\"video/mp4\" res=\"360p\" fps=\"30fps\" vcodec=\"avc1.42001E\" acodec=\"mp4a.40.2\" progressive=\"True\" type=\"video\">)\n",
            "(2, <Stream: itag=\"22\" mime_type=\"video/mp4\" res=\"720p\" fps=\"30fps\" vcodec=\"avc1.64001F\" acodec=\"mp4a.40.2\" progressive=\"True\" type=\"video\">)\n",
            "(3, <Stream: itag=\"137\" mime_type=\"video/mp4\" res=\"1080p\" fps=\"30fps\" vcodec=\"avc1.640028\" progressive=\"False\" type=\"video\">)\n",
            "(4, <Stream: itag=\"136\" mime_type=\"video/mp4\" res=\"720p\" fps=\"30fps\" vcodec=\"avc1.64001f\" progressive=\"False\" type=\"video\">)\n",
            "(5, <Stream: itag=\"135\" mime_type=\"video/mp4\" res=\"480p\" fps=\"30fps\" vcodec=\"avc1.4d400b\" progressive=\"False\" type=\"video\">)\n",
            "(6, <Stream: itag=\"134\" mime_type=\"video/mp4\" res=\"360p\" fps=\"30fps\" vcodec=\"avc1.4d401e\" progressive=\"False\" type=\"video\">)\n",
            "(7, <Stream: itag=\"133\" mime_type=\"video/mp4\" res=\"240p\" fps=\"30fps\" vcodec=\"avc1.4d400c\" progressive=\"False\" type=\"video\">)\n",
            "(8, <Stream: itag=\"160\" mime_type=\"video/mp4\" res=\"144p\" fps=\"30fps\" vcodec=\"avc1.4d400b\" progressive=\"False\" type=\"video\">)\n",
            "(9, <Stream: itag=\"139\" mime_type=\"audio/mp4\" abr=\"48kbps\" acodec=\"mp4a.40.5\" progressive=\"False\" type=\"audio\">)\n",
            "(10, <Stream: itag=\"140\" mime_type=\"audio/mp4\" abr=\"128kbps\" acodec=\"mp4a.40.2\" progressive=\"False\" type=\"audio\">)\n",
            "(11, <Stream: itag=\"251\" mime_type=\"audio/webm\" abr=\"160kbps\" acodec=\"opus\" progressive=\"False\" type=\"audio\">)\n"
          ]
        }
      ],
      "source": [
        "video=list(enumerate(videos))\n",
        "#esto indexará todo el formato en la lista comenzando con cero\n",
        "for i in video:\n",
        "    print(i)\n",
        "    #Esto imprimirá todo el formato de video disponible con el índice adecuado.\n"
      ]
    },
    {
      "cell_type": "code",
      "execution_count": null,
      "id": "09b54e8f-1e70-4022-af0a-43d420061d30",
      "metadata": {
        "id": "09b54e8f-1e70-4022-af0a-43d420061d30"
      },
      "outputs": [],
      "source": [
        ""
      ]
    },
    {
      "cell_type": "code",
      "execution_count": null,
      "id": "2d376138-b5bb-4af9-9481-ba98303440ee",
      "metadata": {
        "id": "2d376138-b5bb-4af9-9481-ba98303440ee",
        "outputId": "ec2faeff-4e6b-41ea-8a2f-f9b23ab3e170"
      },
      "outputs": [
        {
          "name": "stdout",
          "output_type": "stream",
          "text": [
            "ingrese la opción deseada para descargar el formato\n"
          ]
        },
        {
          "name": "stdin",
          "output_type": "stream",
          "text": [
            "ingrese la opción: 3\n"
          ]
        }
      ],
      "source": [
        "print(\"ingrese la opción deseada para descargar el formato\")\n",
        "dn_opcion=int(input(\"ingrese la opción:\"))\n",
        "\n"
      ]
    },
    {
      "cell_type": "code",
      "execution_count": null,
      "id": "b7c9e26c-7090-4b5f-ae81-90c01a826edc",
      "metadata": {
        "id": "b7c9e26c-7090-4b5f-ae81-90c01a826edc",
        "outputId": "f4780d88-b703-497b-bd35-0ff5e37e5c74"
      },
      "outputs": [
        {
          "name": "stdout",
          "output_type": "stream",
          "text": [
            "La descarga fue correcta\n"
          ]
        }
      ],
      "source": [
        "dn_video=videos[dn_opcion]\n",
        "\n",
        "dn_video.download()\n",
        "\n",
        "print(\"La descarga fue correcta\")"
      ]
    },
    {
      "cell_type": "code",
      "execution_count": null,
      "id": "a1f0703e-2760-40e2-be33-20bc233b905b",
      "metadata": {
        "id": "a1f0703e-2760-40e2-be33-20bc233b905b"
      },
      "outputs": [],
      "source": [
        ""
      ]
    }
  ],
  "metadata": {
    "kernelspec": {
      "display_name": "Python 3 (ipykernel)",
      "language": "python",
      "name": "python3"
    },
    "language_info": {
      "codemirror_mode": {
        "name": "ipython",
        "version": 3
      },
      "file_extension": ".py",
      "mimetype": "text/x-python",
      "name": "python",
      "nbconvert_exporter": "python",
      "pygments_lexer": "ipython3",
      "version": "3.9.9"
    },
    "colab": {
      "name": "Descargar video de Youtube con Python.ipynb",
      "provenance": [],
      "include_colab_link": true
    }
  },
  "nbformat": 4,
  "nbformat_minor": 5
}