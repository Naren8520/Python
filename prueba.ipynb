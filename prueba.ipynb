{
  "nbformat": 4,
  "nbformat_minor": 0,
  "metadata": {
    "colab": {
      "name": "prueba.ipynb",
      "provenance": [],
      "toc_visible": true,
      "authorship_tag": "ABX9TyN4sfJ4Q1r6LM7vWMNyryDt",
      "include_colab_link": true
    },
    "kernelspec": {
      "name": "python3",
      "display_name": "Python 3"
    }
  },
  "cells": [
    {
      "cell_type": "markdown",
      "metadata": {
        "id": "view-in-github",
        "colab_type": "text"
      },
      "source": [
        "<a href=\"https://colab.research.google.com/github/Naren8520/Python/blob/main/prueba.ipynb\" target=\"_parent\"><img src=\"https://colab.research.google.com/assets/colab-badge.svg\" alt=\"Open In Colab\"/></a>"
      ]
    },
    {
      "cell_type": "markdown",
      "metadata": {
        "id": "r6WhQ_QCtgvX"
      },
      "source": [
        "#Títulos\n",
        "#Python Colab\n",
        "## Ejemplos Python\n",
        "### Viñetas\n",
        "#### Gráficos"
      ]
    },
    {
      "cell_type": "markdown",
      "metadata": {
        "id": "sEcfTZbtttjF"
      },
      "source": [
        "\n",
        "\n",
        "1.  Frutas\n",
        "  * manzanas\n",
        "  * Peras\n",
        "  * uvas\n",
        "\n",
        "2.   Carros\n",
        "  * Toyota\n",
        "  * BMW\n",
        "  * Mercedes Ben\n",
        "\n"
      ]
    },
    {
      "cell_type": "markdown",
      "metadata": {
        "id": "DFsEKR0VuKHP"
      },
      "source": [
        "Usamos latex incluido en google colab\n",
        "\n",
        "$$ \\hat x_i=\\sum_{i=1}^{n} \\frac{x_i}{n} $$"
      ]
    },
    {
      "cell_type": "code",
      "metadata": {
        "colab": {
          "base_uri": "https://localhost:8080/"
        },
        "id": "aKzDBfAUunHE",
        "outputId": "a7db6119-029b-4828-c08e-cdb8e0e51e42"
      },
      "source": [
        "a=2+6\n",
        "print(a)"
      ],
      "execution_count": null,
      "outputs": [
        {
          "output_type": "stream",
          "text": [
            "8\n"
          ],
          "name": "stdout"
        }
      ]
    },
    {
      "cell_type": "code",
      "metadata": {
        "colab": {
          "base_uri": "https://localhost:8080/",
          "height": 142
        },
        "id": "i2DQ4PwcuwD_",
        "outputId": "a734ca7d-39f5-4752-bdb7-0274f5c03d50"
      },
      "source": [
        "import pandas as pd\n",
        "datos = pd.DataFrame({ \"manzanas\": [3, 2,5], \"peras\" : [1,4,6] , \"Naranjas\" : [5,4,7] }, index=[\"Naren\", \"Jans\", \"Mateo\"])\n",
        "datos\n"
      ],
      "execution_count": null,
      "outputs": [
        {
          "output_type": "execute_result",
          "data": {
            "text/html": [
              "<div>\n",
              "<style scoped>\n",
              "    .dataframe tbody tr th:only-of-type {\n",
              "        vertical-align: middle;\n",
              "    }\n",
              "\n",
              "    .dataframe tbody tr th {\n",
              "        vertical-align: top;\n",
              "    }\n",
              "\n",
              "    .dataframe thead th {\n",
              "        text-align: right;\n",
              "    }\n",
              "</style>\n",
              "<table border=\"1\" class=\"dataframe\">\n",
              "  <thead>\n",
              "    <tr style=\"text-align: right;\">\n",
              "      <th></th>\n",
              "      <th>manzanas</th>\n",
              "      <th>peras</th>\n",
              "      <th>Naranjas</th>\n",
              "    </tr>\n",
              "  </thead>\n",
              "  <tbody>\n",
              "    <tr>\n",
              "      <th>Naren</th>\n",
              "      <td>3</td>\n",
              "      <td>1</td>\n",
              "      <td>5</td>\n",
              "    </tr>\n",
              "    <tr>\n",
              "      <th>Jans</th>\n",
              "      <td>2</td>\n",
              "      <td>4</td>\n",
              "      <td>4</td>\n",
              "    </tr>\n",
              "    <tr>\n",
              "      <th>Mateo</th>\n",
              "      <td>5</td>\n",
              "      <td>6</td>\n",
              "      <td>7</td>\n",
              "    </tr>\n",
              "  </tbody>\n",
              "</table>\n",
              "</div>"
            ],
            "text/plain": [
              "       manzanas  peras  Naranjas\n",
              "Naren         3      1         5\n",
              "Jans          2      4         4\n",
              "Mateo         5      6         7"
            ]
          },
          "metadata": {
            "tags": []
          },
          "execution_count": 4
        }
      ]
    },
    {
      "cell_type": "code",
      "metadata": {
        "colab": {
          "base_uri": "https://localhost:8080/",
          "height": 303
        },
        "id": "kHiGpvU2u_XF",
        "outputId": "fdf56027-e3e4-40d6-bd7d-f50ede9794e4"
      },
      "source": [
        "#Hacer un gráfico de barra\n",
        "datos.plot.bar()"
      ],
      "execution_count": null,
      "outputs": [
        {
          "output_type": "execute_result",
          "data": {
            "text/plain": [
              "<matplotlib.axes._subplots.AxesSubplot at 0x7fc1d8213d30>"
            ]
          },
          "metadata": {
            "tags": []
          },
          "execution_count": 5
        },
        {
          "output_type": "display_data",
          "data": {
            "image/png": "[encoded data removed]",
            "text/plain": [
              "<Figure size 432x288 with 1 Axes>"
            ]
          },
          "metadata": {
            "tags": [],
            "needs_background": "light"
          }
        }
      ]
    },
    {
      "cell_type": "code",
      "metadata": {
        "colab": {
          "base_uri": "https://localhost:8080/",
          "height": 265
        },
        "id": "eRTHJYD3vL33",
        "outputId": "4d2e8776-b337-4451-dac5-43fea2d1bf43"
      },
      "source": [
        "#grafico de paste, circular o pie chart\n",
        "datos[\"frutas en total\"]= datos[\"manzanas\"] + datos[\"peras\"]\n",
        "datos.plot.pie( y=\"frutas en total\", autopct='%1.1f%%')"
      ],
      "execution_count": null,
      "outputs": [
        {
          "output_type": "execute_result",
          "data": {
            "text/plain": [
              "<matplotlib.axes._subplots.AxesSubplot at 0x7fc1d7a35828>"
            ]
          },
          "metadata": {
            "tags": []
          },
          "execution_count": 6
        },
        {
          "output_type": "display_data",
          "data": {
            "image/png": "[encoded data removed]",
            "text/plain": [
              "<Figure size 432x288 with 1 Axes>"
            ]
          },
          "metadata": {
            "tags": []
          }
        }
      ]
    },
    {
      "cell_type": "markdown",
      "metadata": {
        "id": "rqFWarTLxA0d"
      },
      "source": [
        "<b style=\"font-size:25px\">Mi Canal de youtube es Naren Castellon</b>\n",
        "<hr>\n",
        "<br>\n",
        "<iframe width=\"560\" height=\"315\" src=\"https://www.youtube.com/embed/_s5w0aaZTLY\" frameborder=\"0\" allow=\"accelerometer; autoplay; clipboard-write; encrypted-media; gyroscope; picture-in-picture\" allowfullscreen></iframe>\n"
      ]
    },
    {
      "cell_type": "code",
      "metadata": {
        "colab": {
          "base_uri": "https://localhost:8080/",
          "height": 400
        },
        "id": "MPBQA2kUxC6Z",
        "outputId": "edbf3cc9-3b6f-447b-e534-87b610cdf7da"
      },
      "source": [
        "#@title Give me a name {display-mode: \"form\"}\n",
        "%%html\n",
        "<b style=\"font-size:25px\">Mi Canal de youtube es Naren Castellon</b>\n",
        "<hr>\n",
        "<br>\n",
        "<iframe width=\"560\" height=\"315\" src=\"https://www.youtube.com/embed/_s5w0aaZTLY\" frameborder=\"0\" allow=\"accelerometer; autoplay; clipboard-write; encrypted-media; gyroscope; picture-in-picture\" allowfullscreen></iframe>\n"
      ],
      "execution_count": null,
      "outputs": [
        {
          "output_type": "display_data",
          "data": {
            "text/html": [
              "<b style=\"font-size:25px\">Mi Canal de youtube es Naren Castellon</b>\n",
              "<hr>\n",
              "<br>\n",
              "<iframe width=\"560\" height=\"315\" src=\"https://www.youtube.com/embed/_s5w0aaZTLY\" frameborder=\"0\" allow=\"accelerometer; autoplay; clipboard-write; encrypted-media; gyroscope; picture-in-picture\" allowfullscreen></iframe>"
            ],
            "text/plain": [
              "<IPython.core.display.HTML object>"
            ]
          },
          "metadata": {
            "tags": []
          }
        }
      ]
    },
    {
      "cell_type": "code",
      "metadata": {
        "id": "1PzpSs6Oyb1R"
      },
      "source": [
        ""
      ],
      "execution_count": null,
      "outputs": []
    }
  ]
}